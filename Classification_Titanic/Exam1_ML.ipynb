{
 "cells": [
  {
   "cell_type": "markdown",
   "id": "a0a4c463",
   "metadata": {},
   "source": [
    "# Titanic classification"
   ]
  },
  {
   "cell_type": "code",
   "execution_count": 1,
   "id": "5d88dde7",
   "metadata": {},
   "outputs": [
    {
     "name": "stdout",
     "output_type": "stream",
     "text": [
      "   PassengerId  Survived  Pclass  \\\n",
      "0            1         0       3   \n",
      "1            2         1       1   \n",
      "2            3         1       3   \n",
      "3            4         1       1   \n",
      "4            5         0       3   \n",
      "\n",
      "                                                Name     Sex   Age  SibSp  \\\n",
      "0                            Braund, Mr. Owen Harris    male  22.0      1   \n",
      "1  Cumings, Mrs. John Bradley (Florence Briggs Th...  female  38.0      1   \n",
      "2                             Heikkinen, Miss. Laina  female  26.0      0   \n",
      "3       Futrelle, Mrs. Jacques Heath (Lily May Peel)  female  35.0      1   \n",
      "4                           Allen, Mr. William Henry    male  35.0      0   \n",
      "\n",
      "  Parch            Ticket     Fare Cabin Embarked  \n",
      "0     0         A/5 21171     7.25     S      NaN  \n",
      "1     0          PC 17599  71.2833   C85        C  \n",
      "2     0  STON/O2. 3101282    7.925     S      NaN  \n",
      "3     0            113803     53.1  C123        S  \n",
      "4     0            373450     8.05     S      NaN  \n",
      "<class 'pandas.core.frame.DataFrame'>\n",
      "RangeIndex: 1309 entries, 0 to 1308\n",
      "Data columns (total 12 columns):\n",
      " #   Column       Non-Null Count  Dtype  \n",
      "---  ------       --------------  -----  \n",
      " 0   PassengerId  1309 non-null   int64  \n",
      " 1   Survived     1309 non-null   int64  \n",
      " 2   Pclass       1309 non-null   int64  \n",
      " 3   Name         1309 non-null   object \n",
      " 4   Sex          1309 non-null   object \n",
      " 5   Age          1309 non-null   float64\n",
      " 6   SibSp        1309 non-null   int64  \n",
      " 7   Parch        1309 non-null   object \n",
      " 8   Ticket       1309 non-null   object \n",
      " 9   Fare         1309 non-null   object \n",
      " 10  Cabin        1068 non-null   object \n",
      " 11  Embarked     270 non-null    object \n",
      "dtypes: float64(1), int64(4), object(7)\n",
      "memory usage: 122.8+ KB\n",
      "None\n"
     ]
    }
   ],
   "source": [
    "import numpy as np\n",
    "import pandas as pd\n",
    "import math\n",
    "import ML_functions as ML\n",
    "from sklearn.neighbors import KNeighborsClassifier\n",
    "from sklearn.metrics import accuracy_score, confusion_matrix\n",
    "import matplotlib.pyplot as plt\n",
    "from sklearn.model_selection import train_test_split\n",
    "from collections import Counter\n",
    "import pandas as pd\n",
    "from scipy.stats import chi2_contingency\n",
    "import seaborn as sns\n",
    "from imblearn.over_sampling import SMOTE\n",
    "from imblearn.over_sampling import SMOTENC\n",
    "\n",
    "df = pd.read_csv(r\"C:\\Users\\marco\\Downloads\\Titanic.csv\")\n",
    "print(df.head())\n",
    "print(df.info())"
   ]
  },
  {
   "cell_type": "markdown",
   "id": "f18c45a1",
   "metadata": {},
   "source": [
    "## Database Description"
   ]
  },
  {
   "cell_type": "code",
   "execution_count": 2,
   "id": "b75d63f0",
   "metadata": {},
   "outputs": [
    {
     "data": {
      "text/html": [
       "<div>\n",
       "<style scoped>\n",
       "    .dataframe tbody tr th:only-of-type {\n",
       "        vertical-align: middle;\n",
       "    }\n",
       "\n",
       "    .dataframe tbody tr th {\n",
       "        vertical-align: top;\n",
       "    }\n",
       "\n",
       "    .dataframe thead th {\n",
       "        text-align: right;\n",
       "    }\n",
       "</style>\n",
       "<table border=\"1\" class=\"dataframe\">\n",
       "  <thead>\n",
       "    <tr style=\"text-align: right;\">\n",
       "      <th></th>\n",
       "      <th>Name</th>\n",
       "      <th>Sex</th>\n",
       "      <th>Parch</th>\n",
       "      <th>Ticket</th>\n",
       "      <th>Fare</th>\n",
       "      <th>Cabin</th>\n",
       "      <th>Embarked</th>\n",
       "    </tr>\n",
       "  </thead>\n",
       "  <tbody>\n",
       "    <tr>\n",
       "      <th>count</th>\n",
       "      <td>1309</td>\n",
       "      <td>1309</td>\n",
       "      <td>1309</td>\n",
       "      <td>1309</td>\n",
       "      <td>1309</td>\n",
       "      <td>1068</td>\n",
       "      <td>270</td>\n",
       "    </tr>\n",
       "    <tr>\n",
       "      <th>unique</th>\n",
       "      <td>1307</td>\n",
       "      <td>2</td>\n",
       "      <td>230</td>\n",
       "      <td>818</td>\n",
       "      <td>282</td>\n",
       "      <td>177</td>\n",
       "      <td>3</td>\n",
       "    </tr>\n",
       "    <tr>\n",
       "      <th>top</th>\n",
       "      <td>Connolly, Miss. Kate</td>\n",
       "      <td>male</td>\n",
       "      <td>0</td>\n",
       "      <td>7.75</td>\n",
       "      <td>S</td>\n",
       "      <td>S</td>\n",
       "      <td>S</td>\n",
       "    </tr>\n",
       "    <tr>\n",
       "      <th>freq</th>\n",
       "      <td>2</td>\n",
       "      <td>843</td>\n",
       "      <td>768</td>\n",
       "      <td>35</td>\n",
       "      <td>118</td>\n",
       "      <td>641</td>\n",
       "      <td>155</td>\n",
       "    </tr>\n",
       "  </tbody>\n",
       "</table>\n",
       "</div>"
      ],
      "text/plain": [
       "                        Name   Sex Parch Ticket  Fare Cabin Embarked\n",
       "count                   1309  1309  1309   1309  1309  1068      270\n",
       "unique                  1307     2   230    818   282   177        3\n",
       "top     Connolly, Miss. Kate  male     0   7.75     S     S        S\n",
       "freq                       2   843   768     35   118   641      155"
      ]
     },
     "execution_count": 2,
     "metadata": {},
     "output_type": "execute_result"
    }
   ],
   "source": [
    "df.describe(include='object')"
   ]
  },
  {
   "cell_type": "code",
   "execution_count": 3,
   "id": "17e2070d",
   "metadata": {},
   "outputs": [
    {
     "data": {
      "text/html": [
       "<div>\n",
       "<style scoped>\n",
       "    .dataframe tbody tr th:only-of-type {\n",
       "        vertical-align: middle;\n",
       "    }\n",
       "\n",
       "    .dataframe tbody tr th {\n",
       "        vertical-align: top;\n",
       "    }\n",
       "\n",
       "    .dataframe thead th {\n",
       "        text-align: right;\n",
       "    }\n",
       "</style>\n",
       "<table border=\"1\" class=\"dataframe\">\n",
       "  <thead>\n",
       "    <tr style=\"text-align: right;\">\n",
       "      <th></th>\n",
       "      <th>PassengerId</th>\n",
       "      <th>Survived</th>\n",
       "      <th>Pclass</th>\n",
       "      <th>Age</th>\n",
       "      <th>SibSp</th>\n",
       "    </tr>\n",
       "  </thead>\n",
       "  <tbody>\n",
       "    <tr>\n",
       "      <th>count</th>\n",
       "      <td>1309.000000</td>\n",
       "      <td>1309.000000</td>\n",
       "      <td>1309.000000</td>\n",
       "      <td>1309.000000</td>\n",
       "      <td>1309.000000</td>\n",
       "    </tr>\n",
       "    <tr>\n",
       "      <th>mean</th>\n",
       "      <td>655.000000</td>\n",
       "      <td>0.377387</td>\n",
       "      <td>2.294882</td>\n",
       "      <td>23.974538</td>\n",
       "      <td>0.450726</td>\n",
       "    </tr>\n",
       "    <tr>\n",
       "      <th>std</th>\n",
       "      <td>378.020061</td>\n",
       "      <td>0.484918</td>\n",
       "      <td>0.837836</td>\n",
       "      <td>17.471656</td>\n",
       "      <td>0.925378</td>\n",
       "    </tr>\n",
       "    <tr>\n",
       "      <th>min</th>\n",
       "      <td>1.000000</td>\n",
       "      <td>0.000000</td>\n",
       "      <td>1.000000</td>\n",
       "      <td>0.000000</td>\n",
       "      <td>0.000000</td>\n",
       "    </tr>\n",
       "    <tr>\n",
       "      <th>25%</th>\n",
       "      <td>328.000000</td>\n",
       "      <td>0.000000</td>\n",
       "      <td>2.000000</td>\n",
       "      <td>8.000000</td>\n",
       "      <td>0.000000</td>\n",
       "    </tr>\n",
       "    <tr>\n",
       "      <th>50%</th>\n",
       "      <td>655.000000</td>\n",
       "      <td>0.000000</td>\n",
       "      <td>3.000000</td>\n",
       "      <td>24.000000</td>\n",
       "      <td>0.000000</td>\n",
       "    </tr>\n",
       "    <tr>\n",
       "      <th>75%</th>\n",
       "      <td>982.000000</td>\n",
       "      <td>1.000000</td>\n",
       "      <td>3.000000</td>\n",
       "      <td>35.000000</td>\n",
       "      <td>1.000000</td>\n",
       "    </tr>\n",
       "    <tr>\n",
       "      <th>max</th>\n",
       "      <td>1309.000000</td>\n",
       "      <td>1.000000</td>\n",
       "      <td>3.000000</td>\n",
       "      <td>80.000000</td>\n",
       "      <td>9.000000</td>\n",
       "    </tr>\n",
       "  </tbody>\n",
       "</table>\n",
       "</div>"
      ],
      "text/plain": [
       "       PassengerId     Survived       Pclass          Age        SibSp\n",
       "count  1309.000000  1309.000000  1309.000000  1309.000000  1309.000000\n",
       "mean    655.000000     0.377387     2.294882    23.974538     0.450726\n",
       "std     378.020061     0.484918     0.837836    17.471656     0.925378\n",
       "min       1.000000     0.000000     1.000000     0.000000     0.000000\n",
       "25%     328.000000     0.000000     2.000000     8.000000     0.000000\n",
       "50%     655.000000     0.000000     3.000000    24.000000     0.000000\n",
       "75%     982.000000     1.000000     3.000000    35.000000     1.000000\n",
       "max    1309.000000     1.000000     3.000000    80.000000     9.000000"
      ]
     },
     "execution_count": 3,
     "metadata": {},
     "output_type": "execute_result"
    }
   ],
   "source": [
    "df.describe()"
   ]
  },
  {
   "cell_type": "code",
   "execution_count": 4,
   "id": "711b55c6",
   "metadata": {},
   "outputs": [
    {
     "name": "stdout",
     "output_type": "stream",
     "text": [
      "\n",
      "Null Count:\n",
      "PassengerId       0\n",
      "Survived          0\n",
      "Pclass            0\n",
      "Name              0\n",
      "Sex               0\n",
      "Age               0\n",
      "SibSp             0\n",
      "Parch             0\n",
      "Ticket            0\n",
      "Fare              0\n",
      "Cabin           241\n",
      "Embarked       1039\n",
      "dtype: int64\n"
     ]
    }
   ],
   "source": [
    "null_count = df.isnull().sum()\n",
    "print(\"\\nNull Count:\")\n",
    "print(null_count)"
   ]
  },
  {
   "cell_type": "code",
   "execution_count": 5,
   "id": "3615e108",
   "metadata": {},
   "outputs": [
    {
     "data": {
      "image/png": "[encoded data removed]",
      "text/plain": [
       "<Figure size 800x800 with 1 Axes>"
      ]
     },
     "metadata": {},
     "output_type": "display_data"
    }
   ],
   "source": [
    "# Count the occurrences of each patient type\n",
    "target_counts = df['Survived'].value_counts()\n",
    "\n",
    "# Create a pie chart\n",
    "plt.figure(figsize=(8, 8))\n",
    "plt.pie(target_counts, labels=target_counts.index, autopct='%1.1f%%', startangle=140)\n",
    "plt.axis('equal')  # Equal aspect ratio ensures that pie is drawn as a circle.\n",
    "plt.show()\n"
   ]
  },
  {
   "cell_type": "markdown",
   "id": "3a126abb",
   "metadata": {},
   "source": [
    "### Correlated variables to target attribute"
   ]
  },
  {
   "cell_type": "code",
   "execution_count": 6,
   "id": "49c33a7f",
   "metadata": {},
   "outputs": [],
   "source": [
    "\n",
    "def perform_chi_square_test(data, attribute, target):\n",
    "    contingency_table = pd.crosstab(data[attribute], data[target])\n",
    "    chi2, p, _, _ = chi2_contingency(contingency_table)\n",
    "    return chi2, p\n",
    "\n",
    "def chi_square_test_all_categorical(data, target):\n",
    "    categorical_attributes = data.select_dtypes(include=['object']).columns\n",
    "    results = []\n",
    "\n",
    "    for attribute in categorical_attributes:\n",
    "        chi2, p = perform_chi_square_test(data, attribute, target)\n",
    "        results.append({'Attribute': attribute, 'Chi-Square': chi2, 'p-value': p})\n",
    "\n",
    "    return pd.DataFrame(results)\n",
    "\n"
   ]
  },
  {
   "cell_type": "code",
   "execution_count": 7,
   "id": "9ccca2d9",
   "metadata": {},
   "outputs": [
    {
     "name": "stdout",
     "output_type": "stream",
     "text": [
      "  Attribute   Chi-Square        p-value\n",
      "0      Name  1309.000000   4.714215e-01\n",
      "1       Sex   617.313352  2.871410e-136\n",
      "2     Parch   248.350462   1.811872e-01\n",
      "3    Ticket   923.833960   5.353831e-03\n",
      "4      Fare   482.362032   8.075180e-13\n",
      "5     Cabin   264.140900   1.902642e-05\n",
      "6  Embarked     0.070129   9.655431e-01\n"
     ]
    }
   ],
   "source": [
    "\n",
    "chi_square_results = chi_square_test_all_categorical(df, 'Survived')\n",
    "print(chi_square_results)\n"
   ]
  },
  {
   "cell_type": "markdown",
   "id": "880f1422",
   "metadata": {},
   "source": [
    "\"Sex,\" \"Fare,\" and \"Ticket\" appear to be strongly associated with the target variable.\n",
    "\"Cabin\" also shows a significant association, but it might be less strong than \"Sex,\" \"Fare,\" and \"Ticket.\"\n",
    "\"Name,\" \"Parch,\" and \"Embarked\" do not seem to have a significant association with the target variable so they can be dropped from the database."
   ]
  },
  {
   "cell_type": "markdown",
   "id": "3df34f9b",
   "metadata": {},
   "source": [
    "### Preprocessing of the database"
   ]
  },
  {
   "cell_type": "markdown",
   "id": "7edff2b6",
   "metadata": {},
   "source": [
    "Drop unecessary columns for classification"
   ]
  },
  {
   "cell_type": "code",
   "execution_count": 8,
   "id": "3a714b01",
   "metadata": {},
   "outputs": [
    {
     "name": "stdout",
     "output_type": "stream",
     "text": [
      "<class 'pandas.core.frame.DataFrame'>\n",
      "RangeIndex: 1309 entries, 0 to 1308\n",
      "Data columns (total 8 columns):\n",
      " #   Column    Non-Null Count  Dtype  \n",
      "---  ------    --------------  -----  \n",
      " 0   Survived  1309 non-null   int64  \n",
      " 1   Pclass    1309 non-null   int64  \n",
      " 2   Sex       1309 non-null   object \n",
      " 3   Age       1309 non-null   float64\n",
      " 4   SibSp     1309 non-null   int64  \n",
      " 5   Ticket    1309 non-null   object \n",
      " 6   Fare      1309 non-null   object \n",
      " 7   Cabin     1068 non-null   object \n",
      "dtypes: float64(1), int64(3), object(4)\n",
      "memory usage: 81.9+ KB\n",
      "None\n"
     ]
    }
   ],
   "source": [
    "df = df.drop(columns=[\"Name\",\"PassengerId\",\"Parch\",\"Embarked\"])\n",
    "print(df.info())"
   ]
  },
  {
   "cell_type": "markdown",
   "id": "52825dcf",
   "metadata": {},
   "source": [
    "Do data imputation of the attribute \"cabin\" by using the mode to fill the na"
   ]
  },
  {
   "cell_type": "code",
   "execution_count": 9,
   "id": "f064670a",
   "metadata": {},
   "outputs": [
    {
     "data": {
      "text/html": [
       "<div>\n",
       "<style scoped>\n",
       "    .dataframe tbody tr th:only-of-type {\n",
       "        vertical-align: middle;\n",
       "    }\n",
       "\n",
       "    .dataframe tbody tr th {\n",
       "        vertical-align: top;\n",
       "    }\n",
       "\n",
       "    .dataframe thead th {\n",
       "        text-align: right;\n",
       "    }\n",
       "</style>\n",
       "<table border=\"1\" class=\"dataframe\">\n",
       "  <thead>\n",
       "    <tr style=\"text-align: right;\">\n",
       "      <th></th>\n",
       "      <th>Sex</th>\n",
       "      <th>Ticket</th>\n",
       "      <th>Fare</th>\n",
       "      <th>Cabin</th>\n",
       "    </tr>\n",
       "  </thead>\n",
       "  <tbody>\n",
       "    <tr>\n",
       "      <th>count</th>\n",
       "      <td>1309</td>\n",
       "      <td>1309</td>\n",
       "      <td>1309</td>\n",
       "      <td>1309</td>\n",
       "    </tr>\n",
       "    <tr>\n",
       "      <th>unique</th>\n",
       "      <td>2</td>\n",
       "      <td>818</td>\n",
       "      <td>282</td>\n",
       "      <td>177</td>\n",
       "    </tr>\n",
       "    <tr>\n",
       "      <th>top</th>\n",
       "      <td>male</td>\n",
       "      <td>7.75</td>\n",
       "      <td>S</td>\n",
       "      <td>S</td>\n",
       "    </tr>\n",
       "    <tr>\n",
       "      <th>freq</th>\n",
       "      <td>843</td>\n",
       "      <td>35</td>\n",
       "      <td>118</td>\n",
       "      <td>882</td>\n",
       "    </tr>\n",
       "  </tbody>\n",
       "</table>\n",
       "</div>"
      ],
      "text/plain": [
       "         Sex Ticket  Fare Cabin\n",
       "count   1309   1309  1309  1309\n",
       "unique     2    818   282   177\n",
       "top     male   7.75     S     S\n",
       "freq     843     35   118   882"
      ]
     },
     "execution_count": 9,
     "metadata": {},
     "output_type": "execute_result"
    }
   ],
   "source": [
    "mode_value = df[\"Cabin\"].mode()[0]  # Get the mode of the column\n",
    "df[\"Cabin\"].fillna(mode_value, inplace=True)\n",
    "df.describe(include='object')"
   ]
  },
  {
   "cell_type": "markdown",
   "id": "7178886e",
   "metadata": {},
   "source": [
    "Balance the database using SMOTE"
   ]
  },
  {
   "cell_type": "code",
   "execution_count": 10,
   "id": "d03ba7b3",
   "metadata": {},
   "outputs": [],
   "source": [
    "# Specify the categorical features using their column indices\n",
    "categorical_features = [1, 4, 5,6]  # indices of the categorical columns\n",
    "\n",
    "# Initialize SMOTENC with the desired k-value and ratio\n",
    "#0.5 ratio means a 50/50 distribution of the target attribute\n",
    "smote = SMOTENC(sampling_strategy=0.7, categorical_features=categorical_features, k_neighbors=5)\n",
    "\n",
    "# Perform SMOTE\n",
    "X_resampled, y_resampled = smote.fit_resample(df.drop('Survived', axis=1), df['Survived'])\n",
    "\n",
    "# Create a new DataFrame with the resampled data\n",
    "resampled_df = pd.concat([X_resampled, y_resampled], axis=1)\n"
   ]
  },
  {
   "cell_type": "code",
   "execution_count": 11,
   "id": "bfb42acd",
   "metadata": {},
   "outputs": [
    {
     "data": {
      "image/png": "[encoded data removed]",
      "text/plain": [
       "<Figure size 800x800 with 1 Axes>"
      ]
     },
     "metadata": {},
     "output_type": "display_data"
    }
   ],
   "source": [
    "# Count the occurrences of each patient type\n",
    "target_counts = resampled_df['Survived'].value_counts()\n",
    "\n",
    "# Create a pie chart\n",
    "plt.figure(figsize=(8, 8))\n",
    "plt.pie(target_counts, labels=target_counts.index, autopct='%1.1f%%', startangle=140)\n",
    "plt.axis('equal')  # Equal aspect ratio ensures that pie is drawn as a circle.\n",
    "plt.show()\n"
   ]
  },
  {
   "cell_type": "markdown",
   "id": "49f6feff",
   "metadata": {},
   "source": [
    "Encode categorical variables to numerical"
   ]
  },
  {
   "cell_type": "code",
   "execution_count": 12,
   "id": "dafb7bba",
   "metadata": {},
   "outputs": [
    {
     "name": "stdout",
     "output_type": "stream",
     "text": [
      "<class 'pandas.core.frame.DataFrame'>\n",
      "RangeIndex: 1385 entries, 0 to 1384\n",
      "Columns: 1283 entries, Pclass to Cabin_T\n",
      "dtypes: int64(1283)\n",
      "memory usage: 13.6 MB\n",
      "None\n",
      "(1385, 1283)\n"
     ]
    }
   ],
   "source": [
    "df_encoded= ML.one_hot_encode_categorical(resampled_df)\n",
    "print(df_encoded.info())\n",
    "print(df_encoded.shape)"
   ]
  },
  {
   "cell_type": "code",
   "execution_count": 13,
   "id": "b2089a46",
   "metadata": {},
   "outputs": [
    {
     "name": "stdout",
     "output_type": "stream",
     "text": [
      "   Pclass    Age     SibSp  Survived  Sex_female  Sex_male  Ticket_0  \\\n",
      "0     1.0 -0.450 -0.777778      -1.0        -1.0       1.0      -1.0   \n",
      "1    -1.0 -0.050 -0.777778       1.0         1.0      -1.0      -1.0   \n",
      "2     1.0 -0.350 -1.000000       1.0         1.0      -1.0      -1.0   \n",
      "3    -1.0 -0.125 -0.777778       1.0         1.0      -1.0      -1.0   \n",
      "4     1.0 -0.125 -1.000000      -1.0        -1.0       1.0      -1.0   \n",
      "\n",
      "   Ticket_10.7083  Ticket_110.8833  Ticket_110152  ...  Cabin_F E57  \\\n",
      "0            -1.0             -1.0           -1.0  ...         -1.0   \n",
      "1            -1.0             -1.0           -1.0  ...         -1.0   \n",
      "2            -1.0             -1.0           -1.0  ...         -1.0   \n",
      "3            -1.0             -1.0           -1.0  ...         -1.0   \n",
      "4            -1.0             -1.0           -1.0  ...         -1.0   \n",
      "\n",
      "   Cabin_F G63  Cabin_F G73  Cabin_F2  Cabin_F33  Cabin_F4  Cabin_G6  Cabin_Q  \\\n",
      "0         -1.0         -1.0      -1.0       -1.0      -1.0      -1.0     -1.0   \n",
      "1         -1.0         -1.0      -1.0       -1.0      -1.0      -1.0     -1.0   \n",
      "2         -1.0         -1.0      -1.0       -1.0      -1.0      -1.0     -1.0   \n",
      "3         -1.0         -1.0      -1.0       -1.0      -1.0      -1.0     -1.0   \n",
      "4         -1.0         -1.0      -1.0       -1.0      -1.0      -1.0     -1.0   \n",
      "\n",
      "   Cabin_S  Cabin_T  \n",
      "0      1.0     -1.0  \n",
      "1     -1.0     -1.0  \n",
      "2      1.0     -1.0  \n",
      "3     -1.0     -1.0  \n",
      "4      1.0     -1.0  \n",
      "\n",
      "[5 rows x 1283 columns]\n"
     ]
    }
   ],
   "source": [
    "df_normalized= ML.normalize_minmax(df_encoded)\n",
    "print(df_normalized.head())"
   ]
  },
  {
   "cell_type": "code",
   "execution_count": null,
   "id": "84deb34a",
   "metadata": {},
   "outputs": [],
   "source": []
  },
  {
   "cell_type": "markdown",
   "id": "4cd2cc44",
   "metadata": {},
   "source": [
    "# KNN classification"
   ]
  },
  {
   "cell_type": "code",
   "execution_count": 14,
   "id": "66caaa87",
   "metadata": {},
   "outputs": [],
   "source": [
    "def KNN(x_train,y_train,x_test,y_test):\n",
    "    \"\"\"\n",
    "    Performs KNN algorithm to classify a DataFrame.\n",
    "\n",
    "    Returns:\n",
    "        Elbow method results\n",
    "        Confusion matrix of test classification with optimal k\n",
    "    \"\"\"\n",
    "     # Calculate the number of unique values in y_train to determine k_values\n",
    "    unique_values_count = len(np.unique(y_train))\n",
    "    \n",
    "    # Create an array of k values that are not multiples of the unique_values_count\n",
    "    k_values = [k for k in range(1, 31) if k % unique_values_count != 0]\n",
    "\n",
    "    # Initialize arrays to store accuracy and confusion matrix\n",
    "    accuracy_scores = []\n",
    "    confusion_matrices = []\n",
    "\n",
    "    for k in k_values:\n",
    "        predictions = []\n",
    "\n",
    "        for test_point in x_test.values:\n",
    "            distances = []\n",
    "\n",
    "            # Calculate Euclidean distance between the test point and all training points\n",
    "            for train_point in x_train.values:\n",
    "                distance = np.linalg.norm(test_point - train_point)\n",
    "                distances.append(distance)\n",
    "\n",
    "            # Get indices of k-nearest neighbors\n",
    "            k_indices = np.argsort(distances)[:k]\n",
    "\n",
    "            # Get labels of k-nearest neighbors\n",
    "            k_nearest_labels = [y_train.iloc[i] for i in k_indices]\n",
    "\n",
    "            # Predict the class based on majority vote\n",
    "            prediction = max(set(k_nearest_labels), key=k_nearest_labels.count)\n",
    "            predictions.append(prediction)\n",
    "\n",
    "        correct = sum(1 for true, pred in zip(y_test, predictions) if true == pred)\n",
    "        accuracy = correct / len(y_test)\n",
    "        accuracy_scores.append(accuracy)\n",
    "\n",
    "        # Calculate confusion matrix and store it\n",
    "        confusion = confusion_matrix(y_test, predictions)\n",
    "        confusion_matrices.append(confusion)\n",
    "\n",
    "    # Find the index of the highest accuracy\n",
    "    best_k_index = np.argmax(accuracy_scores)\n",
    "    best_k = k_values[best_k_index]\n",
    "    best_accuracy = accuracy_scores[best_k_index]\n",
    "\n",
    "    # Print the best k value and its corresponding confusion matrix\n",
    "    print(f'Best k value: {best_k}')\n",
    "    print(f'Maximum accuracy: {best_accuracy}')\n",
    "\n",
    "    # Plot the accuracy results vs. k values (elbow method)\n",
    "    plt.plot(k_values, accuracy_scores, marker='o')\n",
    "    plt.xlabel('k')\n",
    "    plt.ylabel('Accuracy')\n",
    "    plt.title('k-NN Accuracy vs. k Values (Elbow Method)')\n",
    "    plt.grid(True)\n",
    "    plt.show()\n",
    "\n",
    "    # Create a prettier confusion matrix with labeled axes\n",
    "    plt.figure(figsize=(8, 6))\n",
    "    sns.heatmap(confusion_matrices[best_k_index], annot=True, fmt='d', cmap='Blues',\n",
    "                xticklabels=np.unique(y_test), yticklabels=np.unique(y_test))\n",
    "    plt.xlabel('Predicted Label')\n",
    "    plt.ylabel('True Label')\n",
    "    plt.title('Confusion Matrix for Best k')\n",
    "    plt.show()\n"
   ]
  },
  {
   "cell_type": "code",
   "execution_count": 15,
   "id": "72d44ad8",
   "metadata": {},
   "outputs": [],
   "source": [
    "# Splitting the DataFrame into 80% training and 20% testing\n",
    "train_df, test_df = train_test_split(df_encoded, test_size=0.2, random_state=42)\n",
    "y_train=train_df[\"Survived\"]\n",
    "y_test=test_df[\"Survived\"]\n",
    "x_train= train_df.drop(columns=[\"Survived\"])\n",
    "x_test= test_df.drop(columns=[\"Survived\"])"
   ]
  },
  {
   "cell_type": "code",
   "execution_count": 16,
   "id": "0919a2e2",
   "metadata": {},
   "outputs": [
    {
     "name": "stdout",
     "output_type": "stream",
     "text": [
      "Best k value: 15\n",
      "Maximum accuracy: 0.855595667870036\n"
     ]
    },
    {
     "data": {
      "image/png": "[encoded data removed]",
      "text/plain": [
       "<Figure size 640x480 with 1 Axes>"
      ]
     },
     "metadata": {},
     "output_type": "display_data"
    },
    {
     "data": {
      "image/png": "[encoded data removed]",
      "text/plain": [
       "<Figure size 800x600 with 2 Axes>"
      ]
     },
     "metadata": {},
     "output_type": "display_data"
    }
   ],
   "source": [
    "KNN(x_train,y_train,x_test,y_test)"
   ]
  },
  {
   "cell_type": "code",
   "execution_count": 17,
   "id": "160d26e9",
   "metadata": {},
   "outputs": [
    {
     "name": "stdout",
     "output_type": "stream",
     "text": [
      "[[150  14]\n",
      " [ 46  67]]\n"
     ]
    },
    {
     "name": "stderr",
     "output_type": "stream",
     "text": [
      "C:\\Users\\marco\\anaconda3\\lib\\site-packages\\sklearn\\neighbors\\_classification.py:228: FutureWarning: Unlike other reduction functions (e.g. `skew`, `kurtosis`), the default behavior of `mode` typically preserves the axis it acts along. In SciPy 1.11.0, this behavior will change: the default value of `keepdims` will become False, the `axis` over which the statistic is taken will be eliminated, and the value None will no longer be accepted. Set `keepdims` to True or False to avoid this warning.\n",
      "  mode, _ = stats.mode(_y[neigh_ind, k], axis=1)\n"
     ]
    }
   ],
   "source": [
    "sklearn_knn = KNeighborsClassifier(n_neighbors=29)\n",
    "sklearn_knn.fit(x_train, y_train)\n",
    "sklearn_predictions = sklearn_knn.predict(x_test)\n",
    "sklearn_accuracy = accuracy_score(y_test, sklearn_predictions)\n",
    "sklearn_confusion_matrix = confusion_matrix(y_test, sklearn_predictions)\n",
    "print(sklearn_confusion_matrix)"
   ]
  },
  {
   "cell_type": "code",
   "execution_count": 18,
   "id": "2705aaa6",
   "metadata": {},
   "outputs": [
    {
     "name": "stdout",
     "output_type": "stream",
     "text": [
      "Custom KNN Accuracy: 0.67\n",
      "Scikit-learn KNN Accuracy: 0.7833935018050542\n"
     ]
    }
   ],
   "source": [
    "print(f'Custom KNN Accuracy: 0.67')\n",
    "print(f'Scikit-learn KNN Accuracy: {sklearn_accuracy}')"
   ]
  },
  {
   "cell_type": "code",
   "execution_count": null,
   "id": "13371d0f",
   "metadata": {},
   "outputs": [],
   "source": []
  }
 ],
 "metadata": {
  "kernelspec": {
   "display_name": "Python 3 (ipykernel)",
   "language": "python",
   "name": "python3"
  },
  "language_info": {
   "codemirror_mode": {
    "name": "ipython",
    "version": 3
   },
   "file_extension": ".py",
   "mimetype": "text/x-python",
   "name": "python",
   "nbconvert_exporter": "python",
   "pygments_lexer": "ipython3",
   "version": "3.9.13"
  }
 },
 "nbformat": 4,
 "nbformat_minor": 5
}
